{
 "cells": [
  {
   "cell_type": "code",
   "execution_count": 1,
   "metadata": {},
   "outputs": [],
   "source": [
    "#==== PyTOUGH ==== \n",
    "#    geometry\n",
    "from mulgrids import *\n",
    "#================= \n",
    "\n",
    "# calls to system\n",
    "import os\n",
    "\n",
    "from numpy import *"
   ]
  },
  {
   "cell_type": "code",
   "execution_count": 2,
   "metadata": {},
   "outputs": [
    {
     "data": {
      "text/plain": [
       "'/Users/fer/Desktop/tallerPyTOUGH/4_MulgridConGMSH_Elevs_Voronoi'"
      ]
     },
     "execution_count": 2,
     "metadata": {},
     "output_type": "execute_result"
    }
   ],
   "source": [
    "#en esta variable guardamos la dirección del directorio de trabajo\n",
    "cwd=os.getcwd()\n",
    "cwd"
   ]
  },
  {
   "cell_type": "code",
   "execution_count": 3,
   "metadata": {},
   "outputs": [],
   "source": [
    "#carga las elevaciones del área de estudio dada una malla Delaunay de GMSH\n",
    "#el archivo elevations_Delaunay.txt se construye con la ayuda de QGis para obtener las elevaciones\n",
    "elevs=np.loadtxt('elevations_Voronoi.txt')\n",
    "#elevs"
   ]
  },
  {
   "cell_type": "code",
   "execution_count": 4,
   "metadata": {},
   "outputs": [
    {
     "data": {
      "text/plain": [
       "216.0"
      ]
     },
     "execution_count": 4,
     "metadata": {},
     "output_type": "execute_result"
    }
   ],
   "source": [
    "#cuál es la mínima elevación en el área\n",
    "min(elevs[:,2])"
   ]
  },
  {
   "cell_type": "code",
   "execution_count": 5,
   "metadata": {},
   "outputs": [
    {
     "data": {
      "text/plain": [
       "267 nodes; 476 columns; 15 layers; 7140 blocks; 0 wells\n",
       "Naming convention: 0 (3 characters for column, 2 digits for layer)\n",
       "Atmosphere type  : 1 (one atmosphere block over each column)"
      ]
     },
     "execution_count": 5,
     "metadata": {},
     "output_type": "execute_result"
    }
   ],
   "source": [
    "#crea un objeto mulgrid a partir de una malla GMSH\n",
    "geo=mulgrid().from_gmsh('miMallaGMSH.msh', [250.0]*14, convention=0, atmos_type=1, top_elevation=min(elevs[:,2]), chars = ascii_lowercase, spaces=True, block_order=None)\n",
    "geo"
   ]
  },
  {
   "cell_type": "code",
   "execution_count": 6,
   "metadata": {},
   "outputs": [
    {
     "data": {
      "text/plain": [
       "0"
      ]
     },
     "execution_count": 6,
     "metadata": {},
     "output_type": "execute_result"
    }
   ],
   "source": [
    "# Este código crea un archivo 'in' para que AMESH construya una malla VORONOI\n",
    "f=open(cwd+'/amesh/in','w')\n",
    "f.write('locat\\n')\n",
    "\n",
    "tol=0.1\n",
    "thck=250.\n",
    "z0=min(elevs[:,2])\n",
    "zc=z0+thck*0.5\n",
    "i=1\n",
    "for ly in range(1,15):\n",
    "    zc=zc-thck\n",
    "    for node in geo.nodelist:\n",
    "        xi=node.pos[0]\n",
    "        yi=node.pos[1]\n",
    "        f.write(format(i,\"5d\")+format(ly,\"5d\")+format(xi,\"20.10e\")+format(yi,\"20.10e\")+format(zc,\"20.10e\")+format(thck,\"20.10e\")+'\\n')\n",
    "        i=i+1\n",
    "f.write('\\n')\n",
    "\n",
    "f.write('toler\\n')\n",
    "f.write(format(tol,\"10.4f\")+'\\n')\n",
    "f.write('\\n')\n",
    "\n",
    "#corners of the polygon - clockwise\n",
    "f.write('bound\\n')\n",
    "f.write(format(0.,'9.3f')+' '+format(1000.,'9.3f')+'\\n')\n",
    "f.write(format(0.,'9.3f')+' '+format(15000.,'9.3f')+'\\n')\n",
    "f.write(format(2000.,'9.3f')+' '+format(16000.,'9.3f')+'\\n')\n",
    "f.write(format(10000.,'9.3f')+' '+format(16000.,'9.3f')+'\\n')\n",
    "f.write(format(12000.,'9.3f')+' '+format(15000.,'9.3f')+'\\n')\n",
    "f.write(format(12000.,'9.3f')+' '+format(1000.,'9.3f')+'\\n')\n",
    "f.write(format(10000.,'9.3f')+' '+format(0.,'9.3f')+'\\n')\n",
    "f.write(format(2000.,'9.3f')+' '+format(0.,'9.3f')+'\\n')\n",
    "\n",
    "f.close()\n",
    "\n",
    "\n",
    "#ATENCIÓN: este comando ejecuta AMESH en mac - revisa cómo ejecurarlo en tu sistema\n",
    "os.system('cd amesh;./amesh6_osx')"
   ]
  },
  {
   "cell_type": "code",
   "execution_count": 7,
   "metadata": {},
   "outputs": [],
   "source": [
    "#Importamos la malla a PyTOUGH\n",
    "#use convention=2 for definition of GENER SL,NS - NS given by column name\n",
    "#0 - 3 characters for column followed by 2 digits for layer\n",
    "#1 - 3 characters for layer followed by 2 digits for column\n",
    "#2 - 2 characters for layer followed by 3 digits for column\n",
    "ameshgeo=mulgrid().from_amesh(input_filename=cwd+'/amesh/in', segment_filename=cwd+'/amesh/segmt', convention=0, node_tolerance=None, justify='r', chars=ascii_lowercase, spaces=True, block_order =None)\n",
    "geo=ameshgeo[0]\n",
    "geo.atmosphere_type=1"
   ]
  },
  {
   "cell_type": "code",
   "execution_count": 10,
   "metadata": {},
   "outputs": [
    {
     "data": {
      "text/plain": [
       "540 nodes; 267 columns; 15 layers; 4005 blocks; 0 wells\n",
       "Naming convention: 0 (3 characters for column, 2 digits for layer)\n",
       "Atmosphere type  : 1 (one atmosphere block over each column)"
      ]
     },
     "execution_count": 10,
     "metadata": {},
     "output_type": "execute_result"
    }
   ],
   "source": [
    "geo"
   ]
  },
  {
   "cell_type": "code",
   "execution_count": 13,
   "metadata": {},
   "outputs": [
    {
     "data": {
      "text/plain": [
       "540 nodes; 267 columns; 15 layers; 4005 blocks; 0 wells\n",
       "Naming convention: 0 (3 characters for column, 2 digits for layer)\n",
       "Atmosphere type  : 1 (one atmosphere block over each column)"
      ]
     },
     "execution_count": 13,
     "metadata": {},
     "output_type": "execute_result"
    }
   ],
   "source": [
    "geo"
   ]
  },
  {
   "cell_type": "code",
   "execution_count": 14,
   "metadata": {},
   "outputs": [],
   "source": [
    "#Esta opción genera error\n",
    "#geo.fit_surface(elevs, alpha=0.1, beta=0.1, columns=[], min_columns=[], grid_boundary=False, layer_snap=0.0, silent=False)\n",
    "\n",
    "#Otra forma de generar la elevación\n",
    "i=0 \n",
    "for cl in geo.columnlist[:]:\n",
    "    cl.surface=elevs[i,2]\n",
    "    i=i+1"
   ]
  },
  {
   "cell_type": "code",
   "execution_count": 15,
   "metadata": {},
   "outputs": [],
   "source": [
    "geo.write_vtk(filename='4geometry.vtu', arrays=None, wells=False, blockmap={}, surface_snap =0.1)"
   ]
  },
  {
   "cell_type": "code",
   "execution_count": null,
   "metadata": {},
   "outputs": [],
   "source": []
  }
 ],
 "metadata": {
  "kernelspec": {
   "display_name": "Python 3 (ipykernel)",
   "language": "python",
   "name": "python3"
  },
  "language_info": {
   "codemirror_mode": {
    "name": "ipython",
    "version": 3
   },
   "file_extension": ".py",
   "mimetype": "text/x-python",
   "name": "python",
   "nbconvert_exporter": "python",
   "pygments_lexer": "ipython3",
   "version": "3.9.13"
  }
 },
 "nbformat": 4,
 "nbformat_minor": 2
}
