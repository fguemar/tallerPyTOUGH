{
 "cells": [
  {
   "cell_type": "code",
   "execution_count": 1,
   "metadata": {},
   "outputs": [],
   "source": [
    "#==== PyTOUGH ==== \n",
    "#    geometry\n",
    "from mulgrids import *\n",
    "#   tough2 grids\n",
    "from t2grids import *\n",
    "# tough2 data files\n",
    "from t2data import *\n",
    "#  postprocesing\n",
    "from t2listing import *\n",
    "# edit initial conditions\n",
    "from t2incons import *\n",
    "#================= \n",
    "\n",
    "# calls to system\n",
    "import os\n",
    "# Visualization Toolkit\n",
    "from vtk import *\n",
    "\n",
    "import datetime\n",
    "#from sympy import *\n",
    "import math"
   ]
  },
  {
   "cell_type": "code",
   "execution_count": 2,
   "metadata": {},
   "outputs": [],
   "source": [
    "now = datetime.datetime.now()\n",
    "cwd=os.getcwd()\n",
    "\n",
    "from pathlib import Path\n",
    "home_dir =str(Path.home())"
   ]
  },
  {
   "cell_type": "code",
   "execution_count": 3,
   "metadata": {},
   "outputs": [
    {
     "data": {
      "text/plain": [
       "242 nodes; 120 columns; 36 layers; 4320 blocks; 0 wells\n",
       "Naming convention: 0 (3 characters for column, 2 digits for layer)\n",
       "Atmosphere type  : 1 (one atmosphere block over each column)"
      ]
     },
     "execution_count": 3,
     "metadata": {},
     "output_type": "execute_result"
    }
   ],
   "source": [
    "#create mesh geometry - One atmosphere block over each column: atmos_type=1\n",
    "geo=mulgrid().rectangular([100]*120,[1]*1,[100]*35, convention=0, atmos_type=1, origin=[0,0,1300], justify='r', case=None, chars=ascii_lowercase)\n",
    "geo"
   ]
  },
  {
   "cell_type": "code",
   "execution_count": 4,
   "metadata": {},
   "outputs": [],
   "source": [
    "#=============== ROCK TYPES ===============\n",
    "#create an object rocktype\n",
    "granite=rocktype(name = 'grani', density=2754., porosity=0.12, permeability = [1.e-17, 1.e-17, 1.e-17], conductivity=2.51, specific_heat = 950.)\n",
    "prcomondu=rocktype(name = 'prcom', density=2358., porosity=0.12, permeability = [1.e-17, 1.e-17, 1.e-17], conductivity=2.51, specific_heat = 920.) \n",
    "comondu=rocktype(name = 'cmndu', density=2187., porosity=0.12, permeability = [1.e-17, 1.e-17, 1.e-17], conductivity=2.51, specific_heat = 920.) \n",
    "domes=rocktype(name = 'domes', density=2650., porosity=0.12, permeability = [1.e-17, 1.e-17, 1.e-17], conductivity=2.51, specific_heat = 920.) \n",
    "\n",
    "#               *** ATMOS ***\n",
    "atmos=rocktype(name = 'atmos', density=0.94,porosity=0.99, permeability = [1.e-12, 1.e-12, 1.e-12], conductivity=2.51, specific_heat =1005.) \n",
    "atmos.relative_permeability['type']=1\n",
    "atmos.relative_permeability['parameters']=[0.01,0.,1.,.99]\n",
    "atmos.capillarity['type']=1\n",
    "atmos.capillarity['parameters']=[0.,0.,1.] #truns out cp=0.\n",
    "atmos.tortuosity=1.\n",
    "atmos.nad=2\n",
    "#==========================================\n",
    "\n",
    "myrocks=[granite,prcomondu,comondu,domes,atmos]"
   ]
  },
  {
   "cell_type": "code",
   "execution_count": 5,
   "metadata": {},
   "outputs": [],
   "source": [
    "#Build T2GEO and inp file\n",
    "t2geo=t2grid().fromgeo(geo) #t2geo.check(fix=False,silent=False)\n",
    "\n",
    "for rck in myrocks:\n",
    "    t2geo.add_rocktype(rck)\n",
    "\n",
    "#Read elevations\n",
    "elev2D=np.loadtxt(cwd+'/inputs/elev2D.txt', dtype='float')\n",
    "\n",
    "#define topography and rock domains\n",
    "i=0\n",
    "for cl in geo.columnlist:\n",
    "    for ly in geo.layerlist:\n",
    "        blk=t2geo.block[geo.block_name(ly.name, cl.name)]\n",
    "        if blk.centre[2] > elev2D[i,1]:\n",
    "            blk.rocktype = atmos\n",
    "        elif blk.centre[2] < -1000.:\n",
    "            blk.rocktype = granite\n",
    "        elif blk.centre[2] >= -1000. and blk.centre[2] < -500.:\n",
    "            blk.rocktype = prcomondu\n",
    "        else:\n",
    "            blk.rocktype = domes\n",
    "    i=i+1\n",
    "    \n",
    "for cl in geo.columnlist:\n",
    "    for ly in geo.layerlist:\n",
    "        blk=t2geo.block[geo.block_name(ly.name, cl.name)]\n",
    "        if blk.rocktype != atmos:\n",
    "            if blk.centre[0] >= 5500. and blk.centre[0] <= 6500. and blk.centre[2] <= -1000.:\n",
    "                blk.rocktype = comondu\n",
    "            elif blk.centre[0] >= 5750. and blk.centre[0] <= 6250.:\n",
    "                blk.rocktype = comondu \n",
    "    \n",
    "    \n",
    "#============================================================\n",
    "#                   set atmos blocks volume\n",
    "for blk in t2geo.blocklist:\n",
    "    if blk.rocktype == atmos:\n",
    "        blk.volume=1.e50\n",
    "        blk.atmosphere=True\n",
    "        \n",
    "#            delete connections between atmospheric blocks\n",
    "for con in t2geo.connectionlist[0:]:\n",
    "    if con.block[0].rocktype == atmos and con.block[1].rocktype == atmos:\n",
    "        t2geo.delete_connection((str(con.block[0]),str(con.block[1])))\n",
    "\n",
    "#                       distance correction\n",
    "for con in t2geo.connectionlist[0:]:\n",
    "    if con.block[0].rocktype == atmos:\n",
    "        con.distance[0]=1.e-6\n",
    "    elif con.block[1].rocktype == atmos:\n",
    "        con.distance[1]=1.e-6\n",
    "        \n",
    "        \n",
    "#columns for injection\n",
    "injcols=[cl for cl in geo.columnlist if cl.centre[0] >= 5500. and cl.centre[0] <=6500]\n",
    "#injcols_names=[' bd',' be',' bf',' bg',' bh',' bi',' bj',' bk',' bl',' bm']\n",
    "\n",
    "    \n",
    "#boundary columns\n",
    "bndcols=[geo.column['  a'],geo.column[' dp']]"
   ]
  },
  {
   "cell_type": "code",
   "execution_count": 6,
   "metadata": {},
   "outputs": [
    {
     "data": {
      "text/plain": [
       "[ bd,  be,  bf,  bg,  bh,  bi,  bj,  bk,  bl,  bm]"
      ]
     },
     "execution_count": 6,
     "metadata": {},
     "output_type": "execute_result"
    }
   ],
   "source": [
    "injcols"
   ]
  },
  {
   "cell_type": "code",
   "execution_count": 7,
   "metadata": {},
   "outputs": [],
   "source": [
    "#t2geo.check(fix=False,silent=False)\n",
    "#t2geo\n",
    "t2geo.write_vtk(geo,cwd+'/2Dmodel_Pview/t2geometry.vtu', wells=False, blockmap = {}, surface_snap=0.1)"
   ]
  },
  {
   "cell_type": "code",
   "execution_count": 8,
   "metadata": {},
   "outputs": [],
   "source": [
    "#define an empty abject t2data for a EOS3 run\n",
    "#------------- EOS3 -------------\n",
    "dat=t2data(); dat.grid=t2geo #set the mesh from t2geo object\n",
    "dat.title=now.strftime('# %Y-%m-%d:')+' EOS3 model by -My name-'\n",
    "dat.multi['num_components']=2\n",
    "dat.multi['num_equations']=3 #eos1: isothermal 2, non isothermal 3\n",
    "dat.multi['num_phases']=2\n",
    "dat.multi['num_secondary_parameters']=6\n",
    "#--------------TIMES-------------\n",
    "#dat.output_times['num_times_specified']=8\n",
    "#yrs=3600.*24.*365.; dat.output_times['time']=[yrs*1,yrs*2,yrs*3,yrs*4,yrs*5,yrs*6,yrs*7,yrs*8]\n",
    "\n",
    "#------------- RPCAP ------------ suitable for atmos\n",
    "dat.relative_permeability['type']=1\n",
    "dat.relative_permeability['parameters']=[0.01,0.,1.,.99]\n",
    "dat.capillarity['type']=1\n",
    "dat.capillarity['parameters']=[0.,0.,1.]\n",
    "\n",
    "#--------------PARAM-------------\n",
    "dat.parameter['max_iterations']=8    #default is 8\n",
    "dat.parameter['newton_weight']=1.    #default is 1\n",
    "#      ...      Output     ...\n",
    "dat.parameter['print_level']=2 #2: KDATA print mass and heat fluxes and flow velocities\n",
    "dat.parameter['print_interval']=1 #printout will occur for every multiple of MCYPR steps\n",
    "dat.parameter['max_timesteps']=9999 # MCYC maximum number of time steps to be calculated.\n",
    "#      ---      MOP     ---\n",
    "dat.parameter['option'][1]=0    #1: a short printout for non-convergent iterations\n",
    "dat.parameter['option'][5]=3    #which EOS\n",
    "#dat.parameter['option'][15]=    #Semi-analytical heat exchange\n",
    "dat.parameter['option'][16]=4    #provides automatic time step control\n",
    "dat.parameter['option'][21]=2    #2: bi-conjugate gradient solver. 3: DSLUCS (default).\n",
    "dat.parameter['relative_error']=1.E-5 # convergence criterion for relative error (default: 1.E-5)\n",
    "#      ...    SIM TIME     ...\n",
    "dat.parameter['tstart']=0. #starting time of simulation in seconds\n",
    "#............................................................\n",
    "#dat.parameter['tstop']=(3600.*24.*365.)*100. #<<<<<<TIMAX<<<<<<\n",
    "#............................................................\n",
    "dat.parameter['const_timestep']=1. #DELTEN: length of time steps in seconds\n",
    "#dat.parameter['max_timestep']=(3600.*24.*365.)*10.  \n",
    "dat.parameter['gravity']=9.81  \n",
    "\n",
    "#============= INITIAL CONDITIONS =================\n",
    "#                >>> START <<<\n",
    "strt=0\n",
    "if strt == 1:\n",
    "    os.system('rm INCON'); dat.start=True; dat.parameter['default_incons']=[1.013E5, 0., 20.]\n",
    "    #dat.indom['atmos'] = [1.013E5, 10.99, 12.]\n",
    "    #dat.indom['atmos'] = [1.013E5, 1., 12.]\n",
    "    for cl in geo.columnlist:\n",
    "        for ly in geo.layerlist:\n",
    "            blk=t2geo.block[geo.block_name(ly.name, cl.name)]\n",
    "            if blk.atmosphere == True:\n",
    "                p=1.013E5-(11.295*blk.centre[2]) #Barry and Chorley (2004)\n",
    "                tm=20.-(6.5E-3*blk.centre[2])\n",
    "                dat.incon[blk.name]=[None,[p, 10.99, tm]]\n",
    "\n",
    "    #===========  INITIAL GENER  ============\n",
    "    os.system('rm GENER')\n",
    "    dat.clear_generators()\n",
    "    bly=geo.layerlist[-1] # bottom layer\n",
    "\n",
    "    q=90.E-3 # 90 mW/m2\n",
    "    for cl in geo.columnlist:\n",
    "        blockname = geo.block_name(bly.name, cl.name)\n",
    "        #generator name: three arbitrary charactes + two arbitrary digits (TOUGH2 users guide!)\n",
    "        gen = t2generator(name =cl.name+bly.name, block = blockname, type ='HEAT', gx = q*cl.area)\n",
    "        dat.add_generator(gen)\n",
    "    #========================================\n",
    "else:\n",
    "    #os.system('mv SAVE INCON')\n",
    "    dat.start=False\n",
    "        # DEFINE LATERAL BLOCKS AS BOUNDARY BLOCKS\n",
    "    for cl in bndcols:\n",
    "        for ly in geo.layerlist[1:]:\n",
    "            blk=t2geo.block[geo.block_name(ly.name, cl.name)]\n",
    "            blk.volume=1.e50\n",
    "            \n",
    "    for con in t2geo.connectionlist[0:]:\n",
    "        if con.block[0].volume == 1.e50 and con.block[1].volume == 1.e50:\n",
    "            t2geo.delete_connection((con.block[0].name,con.block[1].name))\n",
    "        elif con.block[0].volume == 1.e50 and con.block[1].volume != 1.e50:\n",
    "            con.distance[0]=1.e-6\n",
    "        elif con.block[0].volume != 1.e50 and con.block[1].volume == 1.e50:\n",
    "            con.distance[1]=1.e-6\n",
    "    #===========  CONTIN GENER  ============\n",
    "    os.system('rm GENER')\n",
    "    dat.clear_generators()\n",
    "    bly=geo.layerlist[-1] # bottom layer\n",
    "    cols=[cl for cl in geo.columnlist]\n",
    "    #Heat flow\n",
    "    q=90.E-3 # 90 mW/m2\n",
    "    for cl in cols:\n",
    "        if cl in bndcols:\n",
    "            continue\n",
    "        blockname = geo.block_name(bly.name, cl.name)\n",
    "        #generator name: three arbitrary charactes + two digits. Consistency with NAMING CONVENTION!\n",
    "        gen = t2generator(name =cl.name+bly.name, block = blockname, type ='HEAT', gx = q*cl.area)\n",
    "        dat.add_generator(gen)\n",
    "     #Mass flow\n",
    "    m=1.300E-6 # kg/s\n",
    "    cols=[cl for cl in geo.columnlist if abs(cl.centre[0]-geo.centre[0]) < 2000. and \\\n",
    "    abs(cl.centre[1]-geo.centre[1]) < 2000.]\n",
    "    for cl in cols:\n",
    "        if cl in bndcols:\n",
    "            continue\n",
    "        blockname = geo.block_name(bly.name, cl.name)\n",
    "        #generator name: three arbitrary charactes + two digits. Consistency with NAMING CONVENTION!\n",
    "        gen = t2generator(name =cl.name+bly.name, block = blockname, type ='WATE', gx = m, ex = 1900.589E3)\n",
    "        dat.add_generator(gen)\n",
    "    #========================================\n",
    "\n",
    "nn=1000000.\n",
    "yrsec=3600.*24.*365.\n",
    "dat.parameter['tstop']=yrsec*nn #<<<<<<TIMAX<<<<<<\n",
    "#dat.output_times['num_times_specified']=3\n",
    "#dat.output_times['time']=[yrsec*(nn-3.),yrsec*(nn-2.),yrsec*(nn-1.)]\n",
    "\n",
    "dat.write('flow.inp')"
   ]
  },
  {
   "cell_type": "code",
   "execution_count": 9,
   "metadata": {},
   "outputs": [],
   "source": [
    "#os.system('export OMP_NUM_THREADS=1;./treactv332omp_eos3_macos_1m')"
   ]
  },
  {
   "cell_type": "code",
   "execution_count": 10,
   "metadata": {},
   "outputs": [
    {
     "name": "stdout",
     "output_type": "stream",
     "text": [
      "154\n",
      "100000.0\n"
     ]
    },
    {
     "ename": "ValueError",
     "evalue": "dimension mismatch",
     "output_type": "error",
     "traceback": [
      "\u001b[0;31m---------------------------------------------------------------------------\u001b[0m",
      "\u001b[0;31mValueError\u001b[0m                                Traceback (most recent call last)",
      "\u001b[0;32m/var/folders/d4/454hwbd91gs80v37w07m2lp40000gn/T/ipykernel_2660/1475030436.py\u001b[0m in \u001b[0;36m<module>\u001b[0;34m\u001b[0m\n\u001b[1;32m     11\u001b[0m \u001b[0;31m#os.system('cd '+home_dir+'/Desktop/tallerPyTOUGH/5_prima_modelo2D/2Dmodel_Pview; rm *vtu *pvd' )\u001b[0m\u001b[0;34m\u001b[0m\u001b[0;34m\u001b[0m\u001b[0m\n\u001b[1;32m     12\u001b[0m \u001b[0;31m#lst.write_vtk(geo,cwd+'/2Dmodel_Pview/2LTV_2D.pvd', grid=t2geo, indices=None, flows=False, wells=False, start_time=0, time_unit='s', flux_matrix=None, blockmap = {}, surface_snap=0.1)\u001b[0m\u001b[0;34m\u001b[0m\u001b[0;34m\u001b[0m\u001b[0m\n\u001b[0;32m---> 13\u001b[0;31m \u001b[0mlst\u001b[0m\u001b[0;34m.\u001b[0m\u001b[0mwrite_vtk\u001b[0m\u001b[0;34m(\u001b[0m\u001b[0mgeo\u001b[0m\u001b[0;34m,\u001b[0m\u001b[0mcwd\u001b[0m\u001b[0;34m+\u001b[0m\u001b[0;34m'/2Dmodel_Pview/2LTV_myINCON.pvd'\u001b[0m\u001b[0;34m,\u001b[0m \u001b[0mgrid\u001b[0m\u001b[0;34m=\u001b[0m\u001b[0mt2geo\u001b[0m\u001b[0;34m,\u001b[0m \u001b[0mindices\u001b[0m\u001b[0;34m=\u001b[0m\u001b[0;32mNone\u001b[0m\u001b[0;34m,\u001b[0m \u001b[0mflows\u001b[0m\u001b[0;34m=\u001b[0m\u001b[0;32mTrue\u001b[0m\u001b[0;34m,\u001b[0m \u001b[0mwells\u001b[0m\u001b[0;34m=\u001b[0m\u001b[0;32mFalse\u001b[0m\u001b[0;34m,\u001b[0m \u001b[0mstart_time\u001b[0m\u001b[0;34m=\u001b[0m\u001b[0;36m0\u001b[0m\u001b[0;34m,\u001b[0m \u001b[0mtime_unit\u001b[0m\u001b[0;34m=\u001b[0m\u001b[0;34m's'\u001b[0m\u001b[0;34m,\u001b[0m \u001b[0mflux_matrix\u001b[0m\u001b[0;34m=\u001b[0m\u001b[0;32mNone\u001b[0m\u001b[0;34m,\u001b[0m \u001b[0mblockmap\u001b[0m \u001b[0;34m=\u001b[0m \u001b[0;34m{\u001b[0m\u001b[0;34m}\u001b[0m\u001b[0;34m,\u001b[0m \u001b[0msurface_snap\u001b[0m\u001b[0;34m=\u001b[0m\u001b[0;36m0.1\u001b[0m\u001b[0;34m)\u001b[0m\u001b[0;34m\u001b[0m\u001b[0;34m\u001b[0m\u001b[0m\n\u001b[0m",
      "\u001b[0;32m/opt/anaconda3/lib/python3.9/site-packages/PyTOUGH-1.5.6-py3.9.egg/t2listing.py\u001b[0m in \u001b[0;36mwrite_vtk\u001b[0;34m(self, geo, filename, grid, indices, flows, wells, start_time, time_unit, flux_matrix, blockmap, surface_snap)\u001b[0m\n\u001b[1;32m   1252\u001b[0m             \u001b[0mt\u001b[0m \u001b[0;34m=\u001b[0m \u001b[0mstart_time\u001b[0m \u001b[0;34m+\u001b[0m \u001b[0mself\u001b[0m\u001b[0;34m.\u001b[0m\u001b[0mtime\u001b[0m \u001b[0;34m/\u001b[0m \u001b[0mtimescale\u001b[0m\u001b[0;34m\u001b[0m\u001b[0;34m\u001b[0m\u001b[0m\n\u001b[1;32m   1253\u001b[0m             \u001b[0mfilename_time\u001b[0m \u001b[0;34m=\u001b[0m \u001b[0mbase\u001b[0m \u001b[0;34m+\u001b[0m \u001b[0;34m'_'\u001b[0m \u001b[0;34m+\u001b[0m \u001b[0mstr\u001b[0m\u001b[0;34m(\u001b[0m\u001b[0mi\u001b[0m\u001b[0;34m)\u001b[0m \u001b[0;34m+\u001b[0m \u001b[0;34m'.vtu'\u001b[0m\u001b[0;34m\u001b[0m\u001b[0;34m\u001b[0m\u001b[0m\n\u001b[0;32m-> 1254\u001b[0;31m             results_arrays = self.get_vtk_data(geo, grid, flows = doflows, flux_matrix = flux_matrix,\n\u001b[0m\u001b[1;32m   1255\u001b[0m                                                geo_matches = geo_matches, blockmap = blockmap)\n\u001b[1;32m   1256\u001b[0m             \u001b[0;32mfor\u001b[0m \u001b[0marray_type\u001b[0m\u001b[0;34m,\u001b[0m\u001b[0marray_dict\u001b[0m \u001b[0;32min\u001b[0m \u001b[0marrays\u001b[0m\u001b[0;34m.\u001b[0m\u001b[0mitems\u001b[0m\u001b[0;34m(\u001b[0m\u001b[0;34m)\u001b[0m\u001b[0;34m:\u001b[0m\u001b[0;34m\u001b[0m\u001b[0;34m\u001b[0m\u001b[0m\n",
      "\u001b[0;32m/opt/anaconda3/lib/python3.9/site-packages/PyTOUGH-1.5.6-py3.9.egg/t2listing.py\u001b[0m in \u001b[0;36mget_vtk_data\u001b[0;34m(self, geo, grid, flows, flux_matrix, geo_matches, blockmap)\u001b[0m\n\u001b[1;32m   1179\u001b[0m                     \u001b[0marray\u001b[0m\u001b[0;34m.\u001b[0m\u001b[0mSetNumberOfComponents\u001b[0m\u001b[0;34m(\u001b[0m\u001b[0;36m3\u001b[0m\u001b[0;34m)\u001b[0m\u001b[0;34m\u001b[0m\u001b[0;34m\u001b[0m\u001b[0m\n\u001b[1;32m   1180\u001b[0m                     \u001b[0marray\u001b[0m\u001b[0;34m.\u001b[0m\u001b[0mSetNumberOfTuples\u001b[0m\u001b[0;34m(\u001b[0m\u001b[0marray_length\u001b[0m\u001b[0;34m[\u001b[0m\u001b[0marray_type\u001b[0m\u001b[0;34m]\u001b[0m\u001b[0;34m)\u001b[0m\u001b[0;34m\u001b[0m\u001b[0;34m\u001b[0m\u001b[0m\n\u001b[0;32m-> 1181\u001b[0;31m                     \u001b[0marray_data\u001b[0m\u001b[0;34m[\u001b[0m\u001b[0marray_type\u001b[0m\u001b[0;34m]\u001b[0m\u001b[0;34m[\u001b[0m\u001b[0mname\u001b[0m\u001b[0;34m]\u001b[0m \u001b[0;34m=\u001b[0m \u001b[0mflux_matrix\u001b[0m \u001b[0;34m*\u001b[0m \u001b[0mself\u001b[0m\u001b[0;34m.\u001b[0m\u001b[0mconnection\u001b[0m\u001b[0;34m[\u001b[0m\u001b[0mname\u001b[0m\u001b[0;34m]\u001b[0m\u001b[0;34m\u001b[0m\u001b[0;34m\u001b[0m\u001b[0m\n\u001b[0m\u001b[1;32m   1182\u001b[0m                 \u001b[0;32melse\u001b[0m\u001b[0;34m:\u001b[0m\u001b[0;34m\u001b[0m\u001b[0;34m\u001b[0m\u001b[0m\n\u001b[1;32m   1183\u001b[0m                     \u001b[0marray\u001b[0m\u001b[0;34m.\u001b[0m\u001b[0mSetName\u001b[0m\u001b[0;34m(\u001b[0m\u001b[0mname\u001b[0m\u001b[0;34m)\u001b[0m\u001b[0;34m\u001b[0m\u001b[0;34m\u001b[0m\u001b[0m\n",
      "\u001b[0;32m/opt/anaconda3/lib/python3.9/site-packages/scipy/sparse/_base.py\u001b[0m in \u001b[0;36m__mul__\u001b[0;34m(self, other)\u001b[0m\n\u001b[1;32m    588\u001b[0m \u001b[0;34m\u001b[0m\u001b[0m\n\u001b[1;32m    589\u001b[0m     \u001b[0;32mdef\u001b[0m \u001b[0m__mul__\u001b[0m\u001b[0;34m(\u001b[0m\u001b[0mself\u001b[0m\u001b[0;34m,\u001b[0m \u001b[0mother\u001b[0m\u001b[0;34m)\u001b[0m\u001b[0;34m:\u001b[0m\u001b[0;34m\u001b[0m\u001b[0;34m\u001b[0m\u001b[0m\n\u001b[0;32m--> 590\u001b[0;31m         \u001b[0;32mreturn\u001b[0m \u001b[0mself\u001b[0m\u001b[0;34m.\u001b[0m\u001b[0m_mul_dispatch\u001b[0m\u001b[0;34m(\u001b[0m\u001b[0mother\u001b[0m\u001b[0;34m)\u001b[0m\u001b[0;34m\u001b[0m\u001b[0;34m\u001b[0m\u001b[0m\n\u001b[0m\u001b[1;32m    591\u001b[0m \u001b[0;34m\u001b[0m\u001b[0m\n\u001b[1;32m    592\u001b[0m     \u001b[0;31m# by default, use CSR for __mul__ handlers\u001b[0m\u001b[0;34m\u001b[0m\u001b[0;34m\u001b[0m\u001b[0m\n",
      "\u001b[0;32m/opt/anaconda3/lib/python3.9/site-packages/scipy/sparse/_base.py\u001b[0m in \u001b[0;36m_mul_dispatch\u001b[0;34m(self, other)\u001b[0m\n\u001b[1;32m    557\u001b[0m             \u001b[0;31m# dense row or column vector\u001b[0m\u001b[0;34m\u001b[0m\u001b[0;34m\u001b[0m\u001b[0m\n\u001b[1;32m    558\u001b[0m             \u001b[0;32mif\u001b[0m \u001b[0mother\u001b[0m\u001b[0;34m.\u001b[0m\u001b[0mshape\u001b[0m \u001b[0;34m!=\u001b[0m \u001b[0;34m(\u001b[0m\u001b[0mN\u001b[0m\u001b[0;34m,\u001b[0m\u001b[0;34m)\u001b[0m \u001b[0;32mand\u001b[0m \u001b[0mother\u001b[0m\u001b[0;34m.\u001b[0m\u001b[0mshape\u001b[0m \u001b[0;34m!=\u001b[0m \u001b[0;34m(\u001b[0m\u001b[0mN\u001b[0m\u001b[0;34m,\u001b[0m \u001b[0;36m1\u001b[0m\u001b[0;34m)\u001b[0m\u001b[0;34m:\u001b[0m\u001b[0;34m\u001b[0m\u001b[0;34m\u001b[0m\u001b[0m\n\u001b[0;32m--> 559\u001b[0;31m                 \u001b[0;32mraise\u001b[0m \u001b[0mValueError\u001b[0m\u001b[0;34m(\u001b[0m\u001b[0;34m'dimension mismatch'\u001b[0m\u001b[0;34m)\u001b[0m\u001b[0;34m\u001b[0m\u001b[0;34m\u001b[0m\u001b[0m\n\u001b[0m\u001b[1;32m    560\u001b[0m \u001b[0;34m\u001b[0m\u001b[0m\n\u001b[1;32m    561\u001b[0m             \u001b[0mresult\u001b[0m \u001b[0;34m=\u001b[0m \u001b[0mself\u001b[0m\u001b[0;34m.\u001b[0m\u001b[0m_mul_vector\u001b[0m\u001b[0;34m(\u001b[0m\u001b[0mnp\u001b[0m\u001b[0;34m.\u001b[0m\u001b[0mravel\u001b[0m\u001b[0;34m(\u001b[0m\u001b[0mother\u001b[0m\u001b[0;34m)\u001b[0m\u001b[0;34m)\u001b[0m\u001b[0;34m\u001b[0m\u001b[0;34m\u001b[0m\u001b[0m\n",
      "\u001b[0;31mValueError\u001b[0m: dimension mismatch"
     ]
    }
   ],
   "source": [
    "#processing of results\n",
    "lst = t2listing('flow.out')\n",
    "print(lst.num_times)\n",
    "#print(lst.times)\n",
    "#----------\n",
    "lst.last()\n",
    "print(lst.time/(3600*24*365))\n",
    "#df=lst.element.DataFrame\n",
    "#print(df.to_string())\n",
    "#----------\n",
    "#os.system('cd '+home_dir+'/Desktop/tallerPyTOUGH/5_prima_modelo2D/2Dmodel_Pview; rm *vtu *pvd' )\n",
    "#lst.write_vtk(geo,cwd+'/2Dmodel_Pview/2LTV_2D.pvd', grid=t2geo, indices=None, flows=False, wells=False, start_time=0, time_unit='s', flux_matrix=None, blockmap = {}, surface_snap=0.1)\n",
    "lst.write_vtk(geo,cwd+'/2Dmodel_Pview/2LTV_myINCON.pvd', grid=t2geo, indices=None, flows=True, wells=False, start_time=0, time_unit='s', flux_matrix=None, blockmap = {}, surface_snap=0.1)"
   ]
  },
  {
   "cell_type": "code",
   "execution_count": 24,
   "metadata": {},
   "outputs": [
    {
     "data": {
      "text/plain": [
       "{'P': (-64884.0, ' dp 7'),\n",
       " 'T': (0.0350000000000108, ' dm33'),\n",
       " 'SG': (0.08706800000000003, ' ab 6'),\n",
       " 'SL': (-0.087068, ' ab 6'),\n",
       " 'XAIRG': (-2.8000000000028002e-05, '  c 6'),\n",
       " 'XAIRL': (3.6026000000000034e-07, '  z 8'),\n",
       " 'PER.MOD.': (0.0, '  a 0'),\n",
       " 'PCAP': (0.0, '  a 0'),\n",
       " 'DG': (0.0018000000000000238, ' dj 6'),\n",
       " 'DL': (-0.047000000000025466, ' do34')}"
      ]
     },
     "execution_count": 24,
     "metadata": {},
     "output_type": "execute_result"
    }
   ],
   "source": [
    "lst.convergence"
   ]
  },
  {
   "cell_type": "code",
   "execution_count": 25,
   "metadata": {},
   "outputs": [],
   "source": [
    "#Evaluate Initial Conditions\n",
    "inc=t2incon('INCON_1Myr')\n",
    "\n",
    "for blk in t2geo.blocklist:\n",
    "    if blk.rocktype == domes or blk.rocktype == comondu:\n",
    "        inc[blk.name][1]=10.99\n",
    "        \n",
    "inc.write('myIncon')"
   ]
  },
  {
   "cell_type": "code",
   "execution_count": null,
   "metadata": {},
   "outputs": [],
   "source": []
  }
 ],
 "metadata": {
  "kernelspec": {
   "display_name": "Python 3 (ipykernel)",
   "language": "python",
   "name": "python3"
  },
  "language_info": {
   "codemirror_mode": {
    "name": "ipython",
    "version": 3
   },
   "file_extension": ".py",
   "mimetype": "text/x-python",
   "name": "python",
   "nbconvert_exporter": "python",
   "pygments_lexer": "ipython3",
   "version": "3.9.13"
  }
 },
 "nbformat": 4,
 "nbformat_minor": 2
}
