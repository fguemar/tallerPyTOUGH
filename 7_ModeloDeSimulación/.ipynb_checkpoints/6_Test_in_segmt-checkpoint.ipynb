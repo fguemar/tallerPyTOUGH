{
 "cells": [
  {
   "cell_type": "code",
   "execution_count": 1,
   "metadata": {},
   "outputs": [],
   "source": [
    "#==== PyTOUGH ==== \n",
    "#    geometry\n",
    "from mulgrids import *\n",
    "#   tough2 grids\n",
    "from t2grids import *\n",
    "# tough2 data files\n",
    "from t2data import *\n",
    "#  postprocesing\n",
    "from t2listing import *\n",
    "#================= "
   ]
  },
  {
   "cell_type": "code",
   "execution_count": 2,
   "metadata": {},
   "outputs": [],
   "source": [
    "amshgeo=mulgrid().from_amesh(input_filename='in', segment_filename='segmt', convention=0, node_tolerance=None, justify='r', chars=ascii_lowercase, spaces=True, block_order =None)\n",
    "geo=amshgeo[0]"
   ]
  },
  {
   "cell_type": "code",
   "execution_count": 3,
   "metadata": {},
   "outputs": [
    {
     "data": {
      "text/plain": [
       "540 nodes; 267 columns; 14 layers; 3471 blocks; 0 wells\n",
       "Naming convention: 0 (3 characters for column, 2 digits for layer)\n",
       "Atmosphere type  : 2 (no atmosphere blocks)"
      ]
     },
     "execution_count": 3,
     "metadata": {},
     "output_type": "execute_result"
    }
   ],
   "source": [
    "geo"
   ]
  },
  {
   "cell_type": "code",
   "execution_count": null,
   "metadata": {},
   "outputs": [],
   "source": []
  }
 ],
 "metadata": {
  "kernelspec": {
   "display_name": "Python 3",
   "language": "python",
   "name": "python3"
  },
  "language_info": {
   "codemirror_mode": {
    "name": "ipython",
    "version": 3
   },
   "file_extension": ".py",
   "mimetype": "text/x-python",
   "name": "python",
   "nbconvert_exporter": "python",
   "pygments_lexer": "ipython3",
   "version": "3.7.3"
  }
 },
 "nbformat": 4,
 "nbformat_minor": 2
}
