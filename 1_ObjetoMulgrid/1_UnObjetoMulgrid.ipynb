{
 "cells": [
  {
   "cell_type": "code",
   "execution_count": 1,
   "metadata": {},
   "outputs": [],
   "source": [
    "#==== PyTOUGH ==== \n",
    "#    geometry\n",
    "from mulgrids import *\n",
    "#================= "
   ]
  },
  {
   "cell_type": "code",
   "execution_count": 24,
   "metadata": {},
   "outputs": [],
   "source": [
    "#un objeto mulgrid a partir del método 'rectangular'\n",
    "#convention=1: 3 characters for layer followed by 2 digits for column\n",
    "#atmos_type=1: un bloque atmosférico sobre cada columna\n",
    "geo=mulgrid().rectangular([100.]*20,[1.]*1,[50.]*8, convention=0, atmos_type=1, origin=[0,0,0], justify='r', case=None, chars=ascii_lowercase)"
   ]
  },
  {
   "cell_type": "code",
   "execution_count": null,
   "metadata": {},
   "outputs": [],
   "source": []
  },
  {
   "cell_type": "code",
   "execution_count": 5,
   "metadata": {},
   "outputs": [],
   "source": [
    "nx=[100.]*20"
   ]
  },
  {
   "cell_type": "code",
   "execution_count": 3,
   "metadata": {},
   "outputs": [],
   "source": [
    "#Explora las propiedades de un objeto mulgrid (revisa la guía de usuarios)"
   ]
  },
  {
   "cell_type": "code",
   "execution_count": 4,
   "metadata": {},
   "outputs": [
    {
     "data": {
      "text/plain": [
       "42 nodes; 20 columns; 9 layers; 180 blocks; 0 wells\n",
       "Naming convention: 1 (3 characters for layer, 2 digits for column)\n",
       "Atmosphere type  : 1 (one atmosphere block over each column)"
      ]
     },
     "execution_count": 4,
     "metadata": {},
     "output_type": "execute_result"
    }
   ],
   "source": [
    "geo"
   ]
  },
  {
   "cell_type": "code",
   "execution_count": 5,
   "metadata": {},
   "outputs": [
    {
     "data": {
      "text/plain": [
       "2000.0"
      ]
     },
     "execution_count": 5,
     "metadata": {},
     "output_type": "execute_result"
    }
   ],
   "source": [
    "geo.area"
   ]
  },
  {
   "cell_type": "code",
   "execution_count": 6,
   "metadata": {},
   "outputs": [
    {
     "data": {
      "text/plain": [
       "array([1.e+03, 5.e-01])"
      ]
     },
     "execution_count": 6,
     "metadata": {},
     "output_type": "execute_result"
    }
   ],
   "source": [
    "geo.centre"
   ]
  },
  {
   "cell_type": "code",
   "execution_count": 13,
   "metadata": {},
   "outputs": [
    {
     "data": {
      "text/plain": [
       "[  a,\n",
       "   b,\n",
       "   c,\n",
       "   d,\n",
       "   e,\n",
       "   f,\n",
       "   g,\n",
       "   h,\n",
       "   i,\n",
       "   j,\n",
       "   k,\n",
       "   l,\n",
       "   m,\n",
       "   n,\n",
       "   o,\n",
       "   p,\n",
       "   q,\n",
       "   r,\n",
       "   s,\n",
       "   t]"
      ]
     },
     "execution_count": 13,
     "metadata": {},
     "output_type": "execute_result"
    }
   ],
   "source": [
    "geo.columnlist"
   ]
  },
  {
   "cell_type": "code",
   "execution_count": 14,
   "metadata": {},
   "outputs": [
    {
     "data": {
      "text/plain": [
       "[array([0., 0.]), array([2.e+03, 1.e+00])]"
      ]
     },
     "execution_count": 14,
     "metadata": {},
     "output_type": "execute_result"
    }
   ],
   "source": [
    "geo.bounds"
   ]
  },
  {
   "cell_type": "code",
   "execution_count": 8,
   "metadata": {},
   "outputs": [
    {
     "data": {
      "text/plain": [
       "[ 1: 2,\n",
       "  2: 3,\n",
       "  3: 4,\n",
       "  4: 5,\n",
       "  5: 6,\n",
       "  6: 7,\n",
       "  7: 8,\n",
       "  8: 9,\n",
       "  9:10,\n",
       " 10:11,\n",
       " 11:12,\n",
       " 12:13,\n",
       " 13:14,\n",
       " 14:15,\n",
       " 15:16,\n",
       " 16:17,\n",
       " 17:18,\n",
       " 18:19,\n",
       " 19:20]"
      ]
     },
     "execution_count": 8,
     "metadata": {},
     "output_type": "execute_result"
    }
   ],
   "source": [
    "geo.connectionlist"
   ]
  },
  {
   "cell_type": "code",
   "execution_count": 25,
   "metadata": {},
   "outputs": [
    {
     "data": {
      "text/plain": [
       "[ 0(0:0),\n",
       "  1(-50.0:0),\n",
       "  2(-100.0:-50.0),\n",
       "  3(-150.0:-100.0),\n",
       "  4(-200.0:-150.0),\n",
       "  5(-250.0:-200.0),\n",
       "  6(-300.0:-250.0),\n",
       "  7(-350.0:-300.0),\n",
       "  8(-400.0:-350.0)]"
      ]
     },
     "execution_count": 25,
     "metadata": {},
     "output_type": "execute_result"
    }
   ],
   "source": [
    "geo.layerlist"
   ]
  },
  {
   "cell_type": "code",
   "execution_count": 26,
   "metadata": {},
   "outputs": [],
   "source": [
    "geo.write_vtk(filename='1geometry.vtu', arrays=None, wells=False, blockmap={}, surface_snap =0.1)"
   ]
  },
  {
   "cell_type": "code",
   "execution_count": null,
   "metadata": {},
   "outputs": [],
   "source": []
  }
 ],
 "metadata": {
  "kernelspec": {
   "display_name": "Python 3 (ipykernel)",
   "language": "python",
   "name": "python3"
  },
  "language_info": {
   "codemirror_mode": {
    "name": "ipython",
    "version": 3
   },
   "file_extension": ".py",
   "mimetype": "text/x-python",
   "name": "python",
   "nbconvert_exporter": "python",
   "pygments_lexer": "ipython3",
   "version": "3.9.13"
  }
 },
 "nbformat": 4,
 "nbformat_minor": 2
}
