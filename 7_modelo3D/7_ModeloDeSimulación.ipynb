{
 "cells": [
  {
   "cell_type": "markdown",
   "metadata": {},
   "source": [
    "# taller PyTOUGH - Ejercicio 7\n",
    "\n",
    "Ejercicio tomado de <a href=\"https://github.com/fguemar/tallerPyTOUGH\">Taller PyTOUGH</a> por Fernando J. Guerrero, con el uso de biblioteca de funcioes <a href=\"https://github.com/acroucher/PyTOUGH\">PyTOUGH</a> de Adrian Croucher. Uso bajo licencia <a href=\"https://creativecommons.org/licenses/by-nc-nd/4.0?ref=chooser-v1\">Attribution-NonCommercial-NoDerivatives 4.0 International</a>"
   ]
  },
  {
   "cell_type": "code",
   "execution_count": 1,
   "metadata": {},
   "outputs": [],
   "source": [
    "#==== PyTOUGH ==== \n",
    "#    geometry\n",
    "from mulgrids import *\n",
    "#   tough2 grids\n",
    "from t2grids import *\n",
    "# tough2 data files\n",
    "from t2data import *\n",
    "#  postprocesing\n",
    "from t2listing import *\n",
    "#================= \n",
    "\n",
    "# calls to system\n",
    "import os\n",
    "# Visualization Toolkit\n",
    "from vtk import *\n",
    "\n",
    "import datetime\n",
    "#from sympy import *\n",
    "import math"
   ]
  },
  {
   "cell_type": "code",
   "execution_count": 2,
   "metadata": {},
   "outputs": [],
   "source": [
    "#=================================== *** ====================================\n",
    "#guarda la fecha de hoy en la variable 'now'\n",
    "now = datetime.datetime.now()\n",
    "#guarda en 'cwd' la dirección del directorio de trabajo\n",
    "cwd=os.getcwd()"
   ]
  },
  {
   "cell_type": "code",
   "execution_count": 3,
   "metadata": {},
   "outputs": [
    {
     "data": {
      "text/plain": [
       "267 nodes; 476 columns; 2 layers; 476 blocks; 0 wells\n",
       "Naming convention: 0 (3 characters for column, 2 digits for layer)\n",
       "Atmosphere type  : 2 (no atmosphere blocks)"
      ]
     },
     "execution_count": 3,
     "metadata": {},
     "output_type": "execute_result"
    }
   ],
   "source": [
    "gmshgeo=mulgrid().from_gmsh('miMallaGMSH.msh', [1.], convention=0, atmos_type=2, top_elevation=0., chars = ascii_lowercase, spaces=True, block_order=None)\n",
    "gmshgeo"
   ]
  },
  {
   "cell_type": "code",
   "execution_count": 4,
   "metadata": {},
   "outputs": [
    {
     "data": {
      "text/plain": [
       "216.0"
      ]
     },
     "execution_count": 4,
     "metadata": {},
     "output_type": "execute_result"
    }
   ],
   "source": [
    "#carga las elevaciones de la malla voronoi\n",
    "surFinput=np.loadtxt('elevations_Voronoi.txt')\n",
    "min(surFinput[:,2])"
   ]
  },
  {
   "cell_type": "code",
   "execution_count": 56,
   "metadata": {},
   "outputs": [
    {
     "data": {
      "text/plain": [
       "0"
      ]
     },
     "execution_count": 56,
     "metadata": {},
     "output_type": "execute_result"
    }
   ],
   "source": [
    "# Write 'in' file for AMESH and run amesh\n",
    "f=open(cwd+'/amesh/in','w')\n",
    "f.write('locat\\n')\n",
    "\n",
    "tol=0.1\n",
    "thck=180.\n",
    "z0=min(surFinput[:,2])\n",
    "zc=z0+thck*0.5\n",
    "i=1\n",
    "for ly in range(1,14):\n",
    "    zc=zc-thck\n",
    "    for node in gmshgeo.nodelist[:]:\n",
    "        xi=node.pos[0]\n",
    "        yi=node.pos[1]\n",
    "        f.write(format(i,\"5d\")+format(ly,\"5d\")+format(xi,\"20.10e\")+format(yi,\"20.10e\")+format(zc,\"20.10e\")+format(thck,\"20.10e\")+'\\n')\n",
    "        i=i+1\n",
    "f.write('\\n')\n",
    "\n",
    "f.write('toler\\n')\n",
    "f.write(format(tol,\"10.4f\")+'\\n')\n",
    "f.write('\\n')\n",
    "\n",
    "#corners of the polygon - clockwise\n",
    "f.write('bound\\n')\n",
    "f.write(format(0.,'9.3f')+' '+format(1000.,'9.3f')+'\\n')\n",
    "f.write(format(0.,'9.3f')+' '+format(15000.,'9.3f')+'\\n')\n",
    "f.write(format(2000.,'9.3f')+' '+format(16000.,'9.3f')+'\\n')\n",
    "f.write(format(10000.,'9.3f')+' '+format(16000.,'9.3f')+'\\n')\n",
    "f.write(format(12000.,'9.3f')+' '+format(15000.,'9.3f')+'\\n')\n",
    "f.write(format(12000.,'9.3f')+' '+format(1000.,'9.3f')+'\\n')\n",
    "f.write(format(10000.,'9.3f')+' '+format(0.,'9.3f')+'\\n')\n",
    "f.write(format(2000.,'9.3f')+' '+format(0.,'9.3f')+'\\n')\n",
    "\n",
    "f.close()\n",
    "\n",
    "#>>>>>>>>>>>>>>>>>>>ATENCIÓN>>>>>>>>>>>>>>>>>>>>>>>>>>>\n",
    "#  con esta instrucción se ejecuta AMESH en mac y se mueven los archivos in y segmnt un directorio atrás\n",
    "#  revisa cómo puedes ejecutar el software en tu sistema\n",
    "#>>>>>>>>>>>>>>>>>>>ATENCIÓN>>>>>>>>>>>>>>>>>>>>>>>>>>>\n",
    "os.system('cd amesh;./amesh6_osx;mv in segmt ..')"
   ]
  },
  {
   "cell_type": "code",
   "execution_count": 5,
   "metadata": {},
   "outputs": [],
   "source": [
    "#build geometry from amesh mesh\n",
    "#use convention=2 for definition of GENER SL,NS - NS given by column name\n",
    "#0 - 3 characters for column followed by 2 digits for layer\n",
    "#1 - 3 characters for layer followed by 2 digits for column\n",
    "#2 - 2 characters for layer followed by 3 digits for column\n",
    "amshgeo=mulgrid().from_amesh(input_filename='in', segment_filename='segmt', convention=0, node_tolerance=None, justify='r', chars=ascii_lowercase, spaces=True, block_order =None)\n",
    "geo=amshgeo[0]\n",
    "\n",
    "#un nodo atmosférico sobre cada columna\n",
    "geo.atmosphere_type=1\n",
    "\n",
    "#asignamos elevaciones a las columnas\n",
    "i=0 \n",
    "for cl in geo.columnlist[:]:\n",
    "    cl.surface=surFinput[i,2]\n",
    "    i=i+1"
   ]
  },
  {
   "cell_type": "code",
   "execution_count": 6,
   "metadata": {},
   "outputs": [],
   "source": [
    "geo.write_vtk(filename='miMalla3D.vtu', arrays=None, wells=False, blockmap={}, surface_snap =0.1)"
   ]
  },
  {
   "cell_type": "code",
   "execution_count": 7,
   "metadata": {
    "scrolled": true
   },
   "outputs": [],
   "source": [
    "#guarda las columnas que pertenecen a la frontera\n",
    "boundary_cls = [cl for cl in geo.columnlist if cl.centre[1]==0. in geo.boundary_columns]\n",
    "\n",
    "\n",
    "southcols="
   ]
  },
  {
   "cell_type": "code",
   "execution_count": 12,
   "metadata": {},
   "outputs": [],
   "source": [
    "#=============== ROCK TYPES ===============\n",
    "#Definición de tipos de roca\n",
    "grani=rocktype(name = 'grani', density=2700., porosity=0.005, permeability = [1.e-19, 1.e-19, 1.e-19], conductivity=2.45, specific_heat = 950.) \n",
    "prcom=rocktype(name = 'prcom', density=2600., porosity=0.08, permeability = [1.e-16, 1.e-16, 1.e-16], conductivity=2.51, specific_heat = 920.) \n",
    "cmndu=rocktype(name = 'cmndu', density=2057., porosity=0.03, permeability = [1.e-17, 1.e-17, 1.e-17], conductivity=2.51, specific_heat = 920.) \n",
    "bsalt=rocktype(name = 'bsalt', density=2057., porosity=0.01, permeability = [4.e-19, 4.e-19, 4.e-19], conductivity=2.51, specific_heat = 920.) \n",
    "domes=rocktype(name = 'domes', density=2057., porosity=0.03, permeability = [6.e-19, 6.e-19, 6.e-19], conductivity=2.51, specific_heat = 920.) \n",
    "#               *** ATMOS ***\n",
    "atmos=rocktype(name = 'atmos', density=0.94,porosity=0.99, permeability = [1.e-12, 1.e-12, 1.e-12], conductivity=2.51, specific_heat =1.E5) \n",
    "atmos.relative_permeability['type']=1\n",
    "atmos.relative_permeability['parameters']=[0.01,0.,1.,.99]\n",
    "atmos.capillarity['type']=1\n",
    "atmos.capillarity['parameters']=[0.,0.,1.] #truns out cp=0.\n",
    "atmos.tortuosity=1.\n",
    "atmos.nad=2\n",
    "\n",
    "#crea una lista con los tipos de roca\n",
    "ltv_rocktypes=[grani,prcom,cmndu,bsalt,domes,atmos]"
   ]
  },
  {
   "cell_type": "code",
   "execution_count": 13,
   "metadata": {},
   "outputs": [],
   "source": [
    "#Crea un objeto t2geo a partir de la geometría creada con AMESH\n",
    "t2geo=t2grid().fromgeo(geo) \n",
    "#t2geo.check(fix=False,silent=False)"
   ]
  },
  {
   "cell_type": "code",
   "execution_count": 14,
   "metadata": {},
   "outputs": [],
   "source": [
    "#agrega los tipos de roca a t2geo\n",
    "for rck in ltv_rocktypes:\n",
    "    t2geo.add_rocktype(rck)\n",
    "                    \n",
    "# Distribuye los tipos de roca ene el dominio\n",
    "for blk in t2geo.blocklist[:]:\n",
    "    if blk.atmosphere == True:\n",
    "        blk.rocktype = atmos\n",
    "        blk.volume = 1.E50\n",
    "    elif blk.centre[2] <= -900.:\n",
    "        blk.rocktype = grani\n",
    "    elif blk.centre[2] > -900. and blk.centre[2] <= -700.:\n",
    "        blk.rocktype = prcom\n",
    "    elif blk.centre[2] > -700. and blk.centre[2] <= -500.:\n",
    "        blk.rocktype = cmndu\n",
    "    elif blk.centre[2] > -500. and blk.centre[2] <= -300.:\n",
    "        blk.rocktype = bsalt\n",
    "    else:\n",
    "        if blk.atmosphere == False:\n",
    "            blk.rocktype = domes\n"
   ]
  },
  {
   "cell_type": "code",
   "execution_count": 16,
   "metadata": {},
   "outputs": [],
   "source": [
    "t2geo.write_vtk(geo,'miMalla3DTOUGH2.vtu', wells=False, blockmap = {}, surface_snap=0.1)"
   ]
  },
  {
   "cell_type": "code",
   "execution_count": 33,
   "metadata": {},
   "outputs": [
    {
     "name": "stderr",
     "output_type": "stream",
     "text": [
      "mv: SAVE: No such file or directory\n"
     ]
    }
   ],
   "source": [
    "#Crea un objeto t2data y asígnale bloques de datos de flow.inp\n",
    "#------------- EOS3 -------------\n",
    "dat=t2data(); dat.grid=t2geo #set the mesh from t2geo object\n",
    "dat.title=now.strftime('# %Y-%m-%d:')+' EOS3 LTV model by FGuerrero et al.'\n",
    "dat.multi['num_components']=2\n",
    "#en este modelo se parte de 'num_equations'=3 - no isotérmico. Lo usual es iniciar con un modelo sin\n",
    "#transporte de calor y solo buscar las presiones hidrostáticas, una estrategia más cautelosa. \n",
    "dat.multi['num_equations']=3 #eos1: isothermal 2, non isothermal 3\n",
    "dat.multi['num_phases']=2\n",
    "dat.multi['num_secondary_parameters']=6\n",
    "#--------------TIMES-------------\n",
    "dat.output_times['num_times_specified']=8\n",
    "yrs=3600.*24.*365.; dat.output_times['time']=[yrs*1,yrs*2,yrs*3,yrs*4,yrs*5,yrs*6,yrs*7,yrs*8]\n",
    "\n",
    "#--------------PARAM-------------\n",
    "dat.parameter['max_iterations']=8    #default is 8\n",
    "dat.parameter['newton_weight']=1.    #default is 1\n",
    "#      ...      Output     ...\n",
    "dat.parameter['print_level']=2 #2: KDATA print mass and heat fluxes and flow velocities\n",
    "dat.parameter['print_interval']=10 #printout will occur for every multiple of MCYPR steps\n",
    "dat.parameter['max_timesteps']=9999 # MCYC maximum number of time steps to be calculated.\n",
    "#      ---      MOP     ---\n",
    "dat.parameter['option'][1]=1    #1: a short printout for non-convergent iterations\n",
    "dat.parameter['option'][5]=3    #which EOS\n",
    "#dat.parameter['option'][15]=    #Semi-analytical heat exchange\n",
    "dat.parameter['option'][16]=4    #provides automatic time step control\n",
    "dat.parameter['option'][21]=2    #2: bi-conjugate gradient solver. 3: DSLUCS (default).\n",
    "dat.parameter['relative_error']=1.E-5 # convergence criterion for relative error (default: 1.E-5)\n",
    "#      ...    SIM TIME     ...\n",
    "dat.parameter['tstart']=0. #starting time of simulation in seconds\n",
    "#............................................................\n",
    "#dat.parameter['tstop']=(3600.*24.*365.)*100. #<<<<<<TIMAX<<<<<<\n",
    "#............................................................\n",
    "dat.parameter['const_timestep']=1. #DELTEN: length of time steps in seconds\n",
    "#dat.parameter['max_timestep']=(3600.*24.*365.)*10.  \n",
    "dat.parameter['gravity']=9.81  \n",
    "\n",
    "#============= INITIAL CONDITIONS =================\n",
    "strt=0\n",
    "if strt == 1:\n",
    "#                >>> con START sin INCON <<<\n",
    "    #Esquema de inicialización por default - ASEGÚRATE DE NO TENER ARCHIVO 'INCON'\n",
    "    #dat.start=True; dat.parameter['default_incons']=[1.013E5, 0., 2.]\n",
    "\n",
    "    #Los bloques atmosféricos se inician según su elevación - permanecen constantes\n",
    "    #atmosly=geo.layerlist[0]\n",
    "    #for cl in geo.columnlist[:]:\n",
    "    #    blk=t2geo.block[geo.block_name(atmosly.name, cl.name)]\n",
    "    #    p=1.013E5-(11.295*cl.surface) #Barry and Chorley (2004)\n",
    "    #    tm=30.-(6.5E-3*cl.surface)\n",
    "    #    dat.incon[blk.name]=[None,[p, 10.99, tm]]\n",
    "\n",
    "    #===========  INITIAL GENER  ============\n",
    "    dat.clear_generators()\n",
    "    bly=geo.layerlist[-1] # bottom layer\n",
    "    cols=[cl for cl in geo.columnlist]\n",
    "\n",
    "    q=90.E-3 # 90 mW/m2\n",
    "    for cl in cols:\n",
    "        blockname = geo.block_name(bly.name, cl.name)\n",
    "        #generator name: three arbitrary charactes + two digits. Consistency with NAMING CONVENTION!\n",
    "        gen = t2generator(name =cl.name+bly.name, block = blockname, type ='HEAT', gx = q*cl.area)\n",
    "        dat.add_generator(gen)\n",
    "    #========================================\n",
    "else:\n",
    "#                >>> con INCON - sin START <<<\n",
    "    os.system('mv SAVE INCON')\n",
    "    dat.start=False\n",
    "        # DEFINE LATERAL BLOCKS AS BOUNDARY BLOCKS\n",
    "    for cl in boundary_cls:\n",
    "        for ly in geo.layerlist[1:]:\n",
    "            blk=t2geo.block[geo.block_name(ly.name, cl.name)]\n",
    "            blk.volume=1.e50\n",
    "            \n",
    "    for con in t2geo.connectionlist[0:]:\n",
    "        if con.block[0].volume == 1.e50 and con.block[1].volume == 1.e50:\n",
    "            t2geo.delete_connection((con.block[0].name,con.block[1].name))\n",
    "        elif con.block[0].volume == 1.e50 and con.block[1].volume != 1.e50:\n",
    "            con.distance[0]=1.e-6\n",
    "        elif con.block[0].volume != 1.e50 and con.block[1].volume == 1.e50:\n",
    "            con.distance[1]=1.e-6\n",
    "    #===========  CONTIN GENER  ============\n",
    "    os.system('rm GENER')\n",
    "    dat.clear_generators()\n",
    "    bly=geo.layerlist[-1] # bottom layer\n",
    "    cols=[cl for cl in geo.columnlist]\n",
    "    #Heat flow\n",
    "    q=90.E-3 # 90 mW/m2\n",
    "    for cl in cols:\n",
    "        if cl in boundary_cls:\n",
    "            continue\n",
    "        blockname = geo.block_name(bly.name, cl.name)\n",
    "        #generator name: three arbitrary charactes + two digits. Consistency with NAMING CONVENTION!\n",
    "        gen = t2generator(name =cl.name+bly.name, block = blockname, type ='HEAT', gx = q*cl.area)\n",
    "        dat.add_generator(gen)\n",
    "     #Mass flow\n",
    "    m=2.50E-3 # kg/s\n",
    "    cols=[cl for cl in geo.columnlist if abs(cl.centre[0]-geo.centre[0]) < 2000. and \\\n",
    "    abs(cl.centre[1]-geo.centre[1]) < 2000.]\n",
    "    for cl in cols:\n",
    "        if cl in boundary_cls:\n",
    "            continue\n",
    "        blockname = geo.block_name(bly.name, cl.name)\n",
    "        #generator name: three arbitrary charactes + two digits. Consistency with NAMING CONVENTION!\n",
    "        gen = t2generator(name =cl.name+bly.name, block = blockname, type ='WATE', gx = m, ex = 1900.0E3)\n",
    "        dat.add_generator(gen)\n",
    "    #========================================\n",
    "\n",
    "dat.parameter['tstop']=(3600.*24.*365.)*1500000. #<<<<<<TIMAX<<<<<<\n",
    "dat.write('flow.inp')"
   ]
  },
  {
   "cell_type": "code",
   "execution_count": null,
   "metadata": {
    "scrolled": true
   },
   "outputs": [
    {
     "name": "stdout",
     "output_type": "stream",
     "text": [
      " \n",
      "      -------- TOUGHREACT Version 3.32-OMP ------- \n",
      "           Lawrence Berkeley National Laboratory   \n",
      "                     February 8, 2017              \n",
      " \n",
      "     ***** OpenMP Parallel Code Settings **** \n",
      "    *** maximum number of threads allotted  =   1\n",
      "    *** maximum number of threads available =   8\n",
      " \n",
      "    --> reading multiphase flow input data\n",
      " \n",
      "    --> performing simulation\n"
     ]
    }
   ],
   "source": [
    "#>>>>>>>>>>>>>>>>>>>ATENCIÓN>>>>>>>>>>>>>>>>>>>>>>>>>>>\n",
    "#  con esta instrucción se ejecuta toughreact en mac\n",
    "#  revisa cómo puedes ejecutar el software en tu sistema\n",
    "#>>>>>>>>>>>>>>>>>>>ATENCIÓN>>>>>>>>>>>>>>>>>>>>>>>>>>>\n",
    "os.system('export OMP_NUM_THREADS=1;./treactv332omp_eos3_macos')"
   ]
  },
  {
   "cell_type": "code",
   "execution_count": 34,
   "metadata": {
    "scrolled": false
   },
   "outputs": [
    {
     "name": "stdout",
     "output_type": "stream",
     "text": [
      "1499873.160832065\n"
     ]
    }
   ],
   "source": [
    "#Análisis de resultados - crea un objeto t2listing a partir del archivo flow.out\n",
    "lst = t2listing('flow.out')\n",
    "\n",
    "#posiciónate en la última tabla de la serie de tiempo\n",
    "lst.last()\n",
    "#imprime qué tiempo es - ¿correspode con el tiempo de simulación esperado?\n",
    "print(lst.time/(3600*24*365))\n",
    "\n",
    "#imprime la tabla de resultados del tiempo en el que 'last'\n",
    "df=lst.element.DataFrame\n",
    "#print(df.to_string())\n",
    "#----------"
   ]
  },
  {
   "cell_type": "code",
   "execution_count": 28,
   "metadata": {},
   "outputs": [
    {
     "data": {
      "text/plain": [
       "{'P': (-51000.0, ' ab13'),\n",
       " 'T': (0.02200000000001978, ' ac13'),\n",
       " 'SG': (0.0, '  a 0'),\n",
       " 'SL': (0.0, '  a 0'),\n",
       " 'XAIRG': (0.0, '  a 0'),\n",
       " 'XAIRL': (8.589000000000004e-08, '  e 2'),\n",
       " 'PER.MOD.': (0.0, '  a 0'),\n",
       " 'PCAP': (0.0, '  a 0'),\n",
       " 'DG': (0.0, '  a 0'),\n",
       " 'DL': (-0.04200000000003001, ' ac13')}"
      ]
     },
     "execution_count": 28,
     "metadata": {},
     "output_type": "execute_result"
    }
   ],
   "source": [
    "#lst.convergence['P']\n",
    "lst.convergence\n",
    "#lst.reductions\n",
    "#lst.times"
   ]
  },
  {
   "cell_type": "code",
   "execution_count": 35,
   "metadata": {},
   "outputs": [],
   "source": [
    "#Salida a Paraview cuando 'print_level=1'\n",
    "#lst.write_vtk(geo,cwd+'/ParaViewOut/flow_outParaView.pvd', grid=t2geo, indices=None, flows=False, wells=False, start_time=0, time_unit='s', flux_matrix=None, blockmap = {}, surface_snap=0.1)\n",
    "\n",
    "#Salida a Paraview cuando 'print_level=2'\n",
    "lst.write_vtk(geo,cwd+'/ParaViewOut/flow_outParaView.pvd', grid=t2geo, indices=None, flows=True, wells=False, start_time=0, time_unit='s', flux_matrix=None, blockmap = {}, surface_snap=0.1)"
   ]
  },
  {
   "cell_type": "code",
   "execution_count": null,
   "metadata": {},
   "outputs": [],
   "source": []
  }
 ],
 "metadata": {
  "kernelspec": {
   "display_name": "Python 3 (ipykernel)",
   "language": "python",
   "name": "python3"
  },
  "language_info": {
   "codemirror_mode": {
    "name": "ipython",
    "version": 3
   },
   "file_extension": ".py",
   "mimetype": "text/x-python",
   "name": "python",
   "nbconvert_exporter": "python",
   "pygments_lexer": "ipython3",
   "version": "3.9.13"
  }
 },
 "nbformat": 4,
 "nbformat_minor": 2
}
